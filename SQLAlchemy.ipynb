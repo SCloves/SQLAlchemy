{
 "cells": [
  {
   "cell_type": "markdown",
   "metadata": {},
   "source": [
    "<img src='sql-alchemy-logo.jpg'>"
   ]
  },
  {
   "cell_type": "markdown",
   "metadata": {},
   "source": [
    "# O que é o SQLAlchemy ?\n",
    "\n",
    "SQLAlchemy é uma biblioteca de mapeamento objeto-relacional SQL em código aberto desenvolvido para a linguagem de programação Python e disponibilizado sobre a licença MIT.\n",
    "\n",
    "O SQLAlchemy fornece \"um conjunto completo e bem conhecido de modelos de persistência de nível corporativo, projetado para eficiência e alta performance de acesso a banco de dados, adaptado em uma linguagem de domínio simples e Pytônica\". Sua filosofia é que bancos de dados SQL se comportem cada vez menos como coleções de objetos, em que mais tamanho e performance comecem a importar, enquanto coleções de objeto se comportem cada vez menos como tabelas e linhas, no qual mais abstração começa a importar. Por esta razão o SQLAlchemy adotou o padrão mapeador de dados (como o Hibernate para Java) em vez do padrão de registro ativo usado por vários outros mapeadores objeto-relacional. Entretanto, plugins adicionais como Elixir e declarative permitem aos usuários desenvolverem usando sintaxe declarativa.\n",
    "\n",
    "O SQLAlchemy foi lançado em fevereiro de 2006 e rapidamente se tornou uma das ferramentas de mapeamento objeto-relacional mais utilizadas juntamente com o ORM do Django, na comunidade Python."
   ]
  },
  {
   "cell_type": "markdown",
   "metadata": {},
   "source": [
    "# Qual o objetivo desse tutorial?\n",
    "\n",
    "Ensinar a como criar uma tabela em um banco de dados para guardar os dados de um determinado dataset e consultar dados do mesmo usando o sqlalchemy."
   ]
  },
  {
   "cell_type": "markdown",
   "metadata": {},
   "source": [
    "# Baixando SQLAlchemy\n",
    "\n",
    "Para linux, execute o seguinte comando no seu terminal:\n",
    "\n",
    "```sudo pip install sqlalchemy```"
   ]
  },
  {
   "cell_type": "markdown",
   "metadata": {},
   "source": [
    "# Fazendo o Load de nosso Nosso Dataset\n",
    "\n",
    "Para fins didáticos vamos usar o dataset do sklearn chamado Iris. Caso não conheça esse dataset e deseje saber mais sobre os dados e história desse dataset clique [aqui](https://en.wikipedia.org/wiki/Iris_flower_data_set)."
   ]
  },
  {
   "cell_type": "code",
   "execution_count": 1,
   "metadata": {
    "collapsed": false
   },
   "outputs": [],
   "source": [
    "from sklearn import datasets\n",
    "import pandas as pd\n",
    "import numpy as np"
   ]
  },
  {
   "cell_type": "code",
   "execution_count": 2,
   "metadata": {
    "collapsed": false
   },
   "outputs": [],
   "source": [
    "iris = datasets.load_iris()"
   ]
  },
  {
   "cell_type": "code",
   "execution_count": 3,
   "metadata": {
    "collapsed": false
   },
   "outputs": [],
   "source": [
    "# vamos transformá-lo em uma dataframe pandas \n",
    "# para facilitar o manuseio\n",
    "iris = pd.DataFrame(data= np.c_[iris['data'], iris['target']],\n",
    "                     columns= iris['feature_names'] + ['target'])"
   ]
  },
  {
   "cell_type": "code",
   "execution_count": 4,
   "metadata": {
    "collapsed": false
   },
   "outputs": [
    {
     "data": {
      "text/html": [
       "<div>\n",
       "<table border=\"1\" class=\"dataframe\">\n",
       "  <thead>\n",
       "    <tr style=\"text-align: right;\">\n",
       "      <th></th>\n",
       "      <th>sepal length (cm)</th>\n",
       "      <th>sepal width (cm)</th>\n",
       "      <th>petal length (cm)</th>\n",
       "      <th>petal width (cm)</th>\n",
       "      <th>target</th>\n",
       "    </tr>\n",
       "  </thead>\n",
       "  <tbody>\n",
       "    <tr>\n",
       "      <th>0</th>\n",
       "      <td>5.1</td>\n",
       "      <td>3.5</td>\n",
       "      <td>1.4</td>\n",
       "      <td>0.2</td>\n",
       "      <td>0.0</td>\n",
       "    </tr>\n",
       "    <tr>\n",
       "      <th>1</th>\n",
       "      <td>4.9</td>\n",
       "      <td>3.0</td>\n",
       "      <td>1.4</td>\n",
       "      <td>0.2</td>\n",
       "      <td>0.0</td>\n",
       "    </tr>\n",
       "    <tr>\n",
       "      <th>2</th>\n",
       "      <td>4.7</td>\n",
       "      <td>3.2</td>\n",
       "      <td>1.3</td>\n",
       "      <td>0.2</td>\n",
       "      <td>0.0</td>\n",
       "    </tr>\n",
       "  </tbody>\n",
       "</table>\n",
       "</div>"
      ],
      "text/plain": [
       "   sepal length (cm)  sepal width (cm)  petal length (cm)  petal width (cm)  \\\n",
       "0                5.1               3.5                1.4               0.2   \n",
       "1                4.9               3.0                1.4               0.2   \n",
       "2                4.7               3.2                1.3               0.2   \n",
       "\n",
       "   target  \n",
       "0     0.0  \n",
       "1     0.0  \n",
       "2     0.0  "
      ]
     },
     "execution_count": 4,
     "metadata": {},
     "output_type": "execute_result"
    }
   ],
   "source": [
    "# vamos dar uma olhada na cara dele\n",
    "iris.head(3)"
   ]
  },
  {
   "cell_type": "markdown",
   "metadata": {},
   "source": [
    "# Criando conexão com nosso Banco de Dados\n",
    "\n",
    "<img src='engine.png'>\n",
    "\n",
    "Partindo do presuposto que você já tenha seu banco de dados, quer em sua máquina local ou algum servidor remoto, você deverá se conectar com o mesmo por meio de uma engine do SQLAlchemy usando o seguinte url:\n",
    "\n",
    "    '{TipoDoBancoDeDados}://{NomeUsuario}:{SenhaDoBanco}@{HostDoBanco}/{NomeDoBanco}\n",
    "    \n",
    "A seuir estão listados alguns tipos de Banco de Dados que o SQLAlchemy consegue estabelecer conexão e seus respectivos valores a serem passados no TipoDoBancoDeDados da url acima:\n",
    "\n",
    "* Firebird --> firebird\n",
    "* Microsoft SQL Server --> mssql\n",
    "* MySQL --> mysql\n",
    "* Oracle --> oracle\n",
    "* PostgreSQL --> postgresql\n",
    "* SQLite --> sqlite\n",
    "\n",
    "É uma boa prática de segurança nunca passar senhas, hots, usuários ou coisas do tipo, explicitamente em seu código. Por isso, crie variáveis ambientes em uma sessão de seu terminal executando os seguintes comandos conforme imagem abaixo:\n",
    "\n",
    "<img src='variaveis_ambiente.png'>\n",
    "\n",
    "Portanto, antes de executar o código da próxima célula, defina suas variáveis ambiente com os respectivos valores do seu Banco de Dados. Se seu banco estiver na sua máquina local, então HOST_DO_MEU_DB='localhost'. "
   ]
  },
  {
   "cell_type": "code",
   "execution_count": 5,
   "metadata": {
    "collapsed": false
   },
   "outputs": [],
   "source": [
    "import os # essa biblioteca será usada para acessar as variáveis ambientes que criei\n",
    "\n",
    "from sqlalchemy import create_engine\n",
    "from sqlalchemy.orm import sessionmaker\n",
    "from sqlalchemy.ext.declarative import declarative_base\n",
    "\n",
    "# coletando os valores das minhas variáveis ambientes\n",
    "DB = os.environ[\"NOME_DO_MEU_DB\"] \n",
    "HOST = os.environ[\"HOST_DO_MEU_DB\"] \n",
    "USER = os.environ[\"USUARIO_DO_MEU_DB\"]\n",
    "PASS = os.environ[\"SENHA_DO_MEU_DB\"] \n",
    "\n",
    "# neste caso, como meu Banco de Dados é do \n",
    "# tipo Postgre eu defini diretamente na url de conexão\n",
    "# o TipoDoBancoDeDados como postgresql\n",
    "engine = create_engine('postgresql://{}:{}@{}/{}'.format(USER, PASS, HOST, DB))\n",
    "Base = declarative_base()\n",
    "Base.metadata.bind = engine\n",
    "DBSession = sessionmaker(bind=engine)\n",
    "session = DBSession()\n",
    "\n",
    "# função para criar a conexão com o banco\n",
    "def create_session(USER, PASS, HOST, DB):\n",
    "    engine = create_engine('postgresql://{}:{}@{}/{}'.format(USER, PASS, HOST, DB))\n",
    "    Base = declarative_base()\n",
    "    Base.metadata.bind = engine\n",
    "    DBSession = sessionmaker(bind=engine)\n",
    "    session = DBSession()\n",
    "    return session"
   ]
  },
  {
   "cell_type": "markdown",
   "metadata": {
    "collapsed": true
   },
   "source": [
    "# Criando nosso Objeto Tabela\n",
    "\n",
    "Vamos criar uma classe que irá representar nossa tabela que será criada lá em nosso banco de dados. Dei o nome de **iris** para minha tabela e ela será criada em um *schema* que eu já criei em meu banco postgre chamado **api**. "
   ]
  },
  {
   "cell_type": "code",
   "execution_count": 6,
   "metadata": {
    "collapsed": false
   },
   "outputs": [],
   "source": [
    "from sqlalchemy import Column, Float, Integer\n",
    "from sqlalchemy.ext.declarative import declarative_base\n",
    "from sqlalchemy.orm import relationship\n",
    "\n",
    "Base = declarative_base() \n",
    "\n",
    "class IRIS(Base):\n",
    "    __tablename__ = 'iris'\n",
    "    __table_args__ = {'schema':'api'}\n",
    "    \n",
    "    # Em nosso dataset, todos as colunas armazenam dados do tipo float\n",
    "    # então iremos declar que cada uma dessas variáveis é uma\n",
    "    # coluna e o tipo de dados que ela armazena, no caso float.\n",
    "    # Se nossa coluna armazenasse dados do tipo String poderíamos\n",
    "    # definir o tamanho máximo dessas strings. Ex:\n",
    "    # tipo_de_transacao = Column(String(30))\n",
    "    # Para declarar uma coluna que receberá data, ou\n",
    "    # inteiros muito grandes podemos importar do sqlalchemy\n",
    "    # os respectivos objetos DateTime e BigInteger.\n",
    "    \n",
    "    # como declarei que essa coluna é uma primary_key, \n",
    "    # isso indica que ela não pode receber valores repetidos.\n",
    "    # Pelo menos uma das colunas deve ser primary_key.\n",
    "    ids = Column(Integer, primary_key=True)\n",
    "    sepal_length = Column(Float)\n",
    "    sepal_width = Column(Float)\n",
    "    petal_length = Column(Float)\n",
    "    petal_width = Column(Float)\n",
    "    target = Column(Float)\n",
    "    \n",
    "# Cria a tabela no engine. Esse comando é equivalente\n",
    "# ao \"Create Table\" do SQL.\n",
    "Base.metadata.create_all(engine)"
   ]
  },
  {
   "cell_type": "markdown",
   "metadata": {
    "collapsed": true
   },
   "source": [
    "Pronto, minha tabela foi criada:\n",
    "\n",
    "<img src='tabela.png'>"
   ]
  },
  {
   "cell_type": "markdown",
   "metadata": {},
   "source": [
    "# Preenchendo com Dados nossa Tabela ires\n",
    "\n",
    "Agora que temos nossa tabela **ires** lá no nosso Banco de Dados, vamos preenche-lá com os dados do nosso dataset ires.  "
   ]
  },
  {
   "cell_type": "code",
   "execution_count": 7,
   "metadata": {
    "collapsed": false
   },
   "outputs": [],
   "source": [
    "# Para não dar problemas, vamos mudar os nomes\n",
    "# das colunas de nosso dataset ires para ficar \n",
    "# igual aos de nossa Classe IRES.\n",
    "\n",
    "iris.columns = ['sepal_length', 'sepal_width', 'petal_length', 'petal_width', 'target']\n",
    "\n",
    "# vamos adicionar uma nova coluna chamada ids\n",
    "iris.insert(0, 'ids', range(len(iris['sepal_length'])))"
   ]
  },
  {
   "cell_type": "code",
   "execution_count": 8,
   "metadata": {
    "collapsed": false
   },
   "outputs": [
    {
     "data": {
      "text/html": [
       "<div>\n",
       "<table border=\"1\" class=\"dataframe\">\n",
       "  <thead>\n",
       "    <tr style=\"text-align: right;\">\n",
       "      <th></th>\n",
       "      <th>ids</th>\n",
       "      <th>sepal_length</th>\n",
       "      <th>sepal_width</th>\n",
       "      <th>petal_length</th>\n",
       "      <th>petal_width</th>\n",
       "      <th>target</th>\n",
       "    </tr>\n",
       "  </thead>\n",
       "  <tbody>\n",
       "    <tr>\n",
       "      <th>0</th>\n",
       "      <td>0</td>\n",
       "      <td>5.1</td>\n",
       "      <td>3.5</td>\n",
       "      <td>1.4</td>\n",
       "      <td>0.2</td>\n",
       "      <td>0.0</td>\n",
       "    </tr>\n",
       "    <tr>\n",
       "      <th>1</th>\n",
       "      <td>1</td>\n",
       "      <td>4.9</td>\n",
       "      <td>3.0</td>\n",
       "      <td>1.4</td>\n",
       "      <td>0.2</td>\n",
       "      <td>0.0</td>\n",
       "    </tr>\n",
       "    <tr>\n",
       "      <th>2</th>\n",
       "      <td>2</td>\n",
       "      <td>4.7</td>\n",
       "      <td>3.2</td>\n",
       "      <td>1.3</td>\n",
       "      <td>0.2</td>\n",
       "      <td>0.0</td>\n",
       "    </tr>\n",
       "    <tr>\n",
       "      <th>3</th>\n",
       "      <td>3</td>\n",
       "      <td>4.6</td>\n",
       "      <td>3.1</td>\n",
       "      <td>1.5</td>\n",
       "      <td>0.2</td>\n",
       "      <td>0.0</td>\n",
       "    </tr>\n",
       "    <tr>\n",
       "      <th>4</th>\n",
       "      <td>4</td>\n",
       "      <td>5.0</td>\n",
       "      <td>3.6</td>\n",
       "      <td>1.4</td>\n",
       "      <td>0.2</td>\n",
       "      <td>0.0</td>\n",
       "    </tr>\n",
       "  </tbody>\n",
       "</table>\n",
       "</div>"
      ],
      "text/plain": [
       "   ids  sepal_length  sepal_width  petal_length  petal_width  target\n",
       "0    0           5.1          3.5           1.4          0.2     0.0\n",
       "1    1           4.9          3.0           1.4          0.2     0.0\n",
       "2    2           4.7          3.2           1.3          0.2     0.0\n",
       "3    3           4.6          3.1           1.5          0.2     0.0\n",
       "4    4           5.0          3.6           1.4          0.2     0.0"
      ]
     },
     "execution_count": 8,
     "metadata": {},
     "output_type": "execute_result"
    }
   ],
   "source": [
    "# vamos dar uma olhada para ver\n",
    "# se ficou legal.\n",
    "iris.head()"
   ]
  },
  {
   "cell_type": "code",
   "execution_count": 9,
   "metadata": {
    "collapsed": false
   },
   "outputs": [],
   "source": [
    "# agora vamos inserir os dados desse dataframe pandas\n",
    "# para nossa tabela ires lá no nosso banco de dados teste.\n",
    "# Para isso, usamos uma função do objeto DataFrame pandas chamada\n",
    "# to_sql() que usará nosso engine que estabelecemos usando o SQLAlchemy\n",
    "# para mandas os dados para nosso banco. \n",
    "\n",
    "iris.to_sql('iris', engine, if_exists='append', index=False)"
   ]
  }
 ],
 "metadata": {
  "anaconda-cloud": {},
  "kernelspec": {
   "display_name": "Python [conda root]",
   "language": "python",
   "name": "conda-root-py"
  },
  "language_info": {
   "codemirror_mode": {
    "name": "ipython",
    "version": 2
   },
   "file_extension": ".py",
   "mimetype": "text/x-python",
   "name": "python",
   "nbconvert_exporter": "python",
   "pygments_lexer": "ipython2",
   "version": "2.7.12"
  }
 },
 "nbformat": 4,
 "nbformat_minor": 2
}
